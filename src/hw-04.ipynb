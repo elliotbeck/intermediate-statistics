{
 "cells": [
  {
   "cell_type": "markdown",
   "metadata": {},
   "source": [
    "Import necessary libraries"
   ]
  },
  {
   "cell_type": "code",
   "execution_count": 11,
   "metadata": {},
   "outputs": [],
   "source": [
    "import numpy as np"
   ]
  },
  {
   "cell_type": "markdown",
   "metadata": {},
   "source": [
    "\n",
    "Let's look at the hat problem. Each person has one hat, in total we have n hats.\n",
    "Each person randomly picks one hat. We will repeat this experiment for n = 2, 5,\n",
    "100, 1000."
   ]
  },
  {
   "cell_type": "code",
   "execution_count": 12,
   "metadata": {},
   "outputs": [
    {
     "name": "stdout",
     "output_type": "stream",
     "text": [
      "n = 2; mean = 1.015; std = 1.000\n",
      "\n",
      "n = 5; mean = 1.002; std = 0.992\n",
      "\n",
      "n = 100; mean = 1.001; std = 1.000\n",
      "\n",
      "n = 1000; mean = 1.000; std = 0.998\n",
      "\n"
     ]
    }
   ],
   "source": [
    "for n in [2, 5, 100, 1000]:\n",
    "    # Each time we will count the number of matches\n",
    "    # The probability of a match is 1 divided by n, for each person\n",
    "    # We will repeat this 100000 times\n",
    "    matches_list = []\n",
    "    for i in range(10000):\n",
    "        # Let's create a list of n hats\n",
    "        hats = np.arange(n)\n",
    "\n",
    "        # Let's create a list of n people\n",
    "        people = np.arange(n)\n",
    "\n",
    "        # Let's randomly shuffle the hats\n",
    "        np.random.shuffle(hats)\n",
    "\n",
    "        # Let's count the number of matches\n",
    "        matches = np.sum(hats == people)\n",
    "\n",
    "        # Let's store the number of matches\n",
    "        matches_list.append(matches)\n",
    "    print(\"n = {}; mean = {:.3f}; std = {:.3f}\".format(n, np.mean(matches_list), np.std(matches_list, ddof=1)))"
   ]
  },
  {
   "cell_type": "markdown",
   "metadata": {},
   "source": [
    "Expected number of matches is 1. Standard deviation is 1, we didn't show that\n",
    "in class. Try to prove it if you want to!"
   ]
  }
 ],
 "metadata": {
  "kernelspec": {
   "display_name": "Python 3",
   "language": "python",
   "name": "python3"
  },
  "language_info": {
   "codemirror_mode": {
    "name": "ipython",
    "version": 3
   },
   "file_extension": ".py",
   "mimetype": "text/x-python",
   "name": "python",
   "nbconvert_exporter": "python",
   "pygments_lexer": "ipython3",
   "version": "3.8.10"
  }
 },
 "nbformat": 4,
 "nbformat_minor": 2
}
