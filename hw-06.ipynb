{
 "cells": [
  {
   "cell_type": "markdown",
   "metadata": {},
   "source": [
    "Coding example for Rice 4.72 (Branching processes)\n",
    "Let's import the necessary libraries"
   ]
  },
  {
   "cell_type": "code",
   "execution_count": 31,
   "metadata": {},
   "outputs": [],
   "source": [
    "import numpy as np\n",
    "from scipy.stats import poisson\n",
    "\n",
    "# Seems to be a good approximation!\n"
   ]
  },
  {
   "cell_type": "markdown",
   "metadata": {},
   "source": [
    "Let's define the parameters, we use the poisson distribution. Mu is the mean and \n",
    "sigma is the standard deviation of the poisson distribution \n",
    "Note: mu = sigma**2 for the poisson distribution"
   ]
  },
  {
   "cell_type": "code",
   "execution_count": 32,
   "metadata": {},
   "outputs": [],
   "source": [
    "mu = 2\n",
    "sigma = 2**0.5\n",
    "n_sim = 10000\n",
    "n_gen = 3"
   ]
  },
  {
   "cell_type": "markdown",
   "metadata": {},
   "source": [
    "Let's simulate the branching process. We will store the number of individuals in each generation in a list"
   ]
  },
  {
   "cell_type": "code",
   "execution_count": 33,
   "metadata": {},
   "outputs": [],
   "source": [
    "n_list = []\n",
    "for i in range(n_sim):\n",
    "    total_population = 1\n",
    "    for j in range(n_gen):\n",
    "        family_sizes = poisson.rvs(mu, size=total_population)\n",
    "        total_population = np.sum(family_sizes)\n",
    "\n",
    "    n_list.append(total_population)"
   ]
  },
  {
   "cell_type": "markdown",
   "metadata": {},
   "source": [
    "Let's calculate mean and standard error"
   ]
  },
  {
   "cell_type": "code",
   "execution_count": 34,
   "metadata": {},
   "outputs": [],
   "source": [
    "mean = np.mean(n_list)\n",
    "variance = np.var(n_list, ddof=1)"
   ]
  },
  {
   "cell_type": "markdown",
   "metadata": {},
   "source": [
    "Theoretical mean and variance as derived in the lecture:"
   ]
  },
  {
   "cell_type": "code",
   "execution_count": 35,
   "metadata": {},
   "outputs": [],
   "source": [
    "theoretical_mean = mu**n_gen\n",
    "theoretical_variance = (sigma**2 * mu ** (n_gen - 1)) * ((1 - mu**n_gen) / (1 - mu))"
   ]
  },
  {
   "cell_type": "markdown",
   "metadata": {},
   "source": [
    "Print the empirical and theoretical results:"
   ]
  },
  {
   "cell_type": "code",
   "execution_count": 36,
   "metadata": {},
   "outputs": [
    {
     "name": "stdout",
     "output_type": "stream",
     "text": [
      "Mean: 8.1, Theoretical mean: 8.0\n",
      "Variance: 57.2, Theoretical variance: 56.0\n"
     ]
    }
   ],
   "source": [
    "print(\"Mean: {:.1f}, Theoretical mean: {:.1f}\".format(mean, theoretical_mean))\n",
    "print(\"Variance: {:.1f}, Theoretical variance: {:.1f}\".format(variance, theoretical_variance))"
   ]
  },
  {
   "cell_type": "markdown",
   "metadata": {},
   "source": [
    "Seems to be a good approximation!"
   ]
  }
 ],
 "metadata": {
  "language_info": {
   "name": "python"
  }
 },
 "nbformat": 4,
 "nbformat_minor": 2
}
